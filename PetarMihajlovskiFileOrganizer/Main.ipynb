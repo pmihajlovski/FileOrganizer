{
 "cells": [
  {
   "cell_type": "code",
   "execution_count": 122,
   "id": "c957780e",
   "metadata": {},
   "outputs": [
    {
     "name": "stdout",
     "output_type": "stream",
     "text": [
      ".DS_Store type:  size8196\n",
      "bw type:png  size94926\n",
      "daffodil type:jpg  size24657\n",
      "eclipse type:png  size64243\n",
      "recap type:csv  size125\n",
      "trump type:jpeg  size10195\n"
     ]
    }
   ],
   "source": [
    "import os\n",
    "import shutil\n",
    "import csv\n",
    "path =\"files/\"\n",
    "#creazione cartelle nel caso non esistono\n",
    "if not os.path.exists(\"files/images\"):\n",
    "    os.makedirs(\"files/images\")\n",
    "if not os.path.exists(\"files/audio\"):\n",
    "    os.makedirs(\"files/audio\")\n",
    "if not os.path.exists(\"files/docs\"):\n",
    "    os.makedirs(\"files/docs\")\n",
    "with open('files/recap.csv', 'w', newline='') as file:\n",
    "    writer = csv.writer(file)\n",
    "image_ext = [\"png\",\"jpg\",\"jpeg\"]\n",
    "text_ext = [\"txt\",\"odt\"]\n",
    "music_ext = [\"mp3\",\"mp4\"]\n",
    "list_dir = (file for file in os.listdir(path) \n",
    "         if os.path.isfile(os.path.join(path, file)))\n",
    "with open(path+\"/recap.csv\", \"a\") as file_object:\n",
    "        file_object.write(\"Name, Type, Size(B)\")\n",
    "#ciclo for per spostare, ordinare e stampare file con nome tipo e dimensione\n",
    "for file in sorted(list_dir):\n",
    "    name, extensions = os.path.splitext(file)\n",
    "    extensions = extensions[1:]\n",
    "    print (\"{} type:{}  size{}\".format(name,extensions,os.path.getsize(path+\"/\"+file)))\n",
    "#aggiorno il recap ad ogni ciclo for\n",
    "    with open(path+\"/recap.csv\", \"a+\") as file_object:\n",
    "        file_object.seek(0)\n",
    "        data = file_object.read(1000)\n",
    "        if len (data) > 0:\n",
    "            file_object.write(\"\\n\")\n",
    "        file_object.write(\"{} type:{}  size{}\".format(name,extensions,os.path.getsize(path+\"/\"+file)))\n",
    "    if extensions in text_ext:\n",
    "        shutil.move(path+\"/\"+file, path+\"/docs/\"+file)\n",
    "    elif extensions in image_ext:\n",
    "        shutil.move(path+\"/\"+file, path+\"/images/\"+file)\n",
    "    elif extensions in music_ext :\n",
    "        shutil.move(path+\"/\"+file, path+\"/audio/\"+file)\n",
    "\n",
    "\n"
   ]
  },
  {
   "cell_type": "code",
   "execution_count": 180,
   "id": "3f39df17",
   "metadata": {},
   "outputs": [
    {
     "name": "stdout",
     "output_type": "stream",
     "text": [
      "daffodil.jpg, R=109.25114626865671, G=85.55517611940299, B=4.967289552238806\n",
      "trump.jpeg, R=97.01080973671138, G=98.99407848981619, B=90.9237953303527\n",
      "bw.png, grescale21.480064392089844\n",
      "eclipse.png, R=109.04953002929688, G=109.52186584472656, B=39.8489990234375, ALPHA=133.5909423828125\n",
      "+--------------+---------+----------+---------+-------------+--------+--------+-------+\n",
      "| name         |   alpha |   height |   width |   grayscale |      R |      G |     B |\n",
      "+==============+=========+==========+=========+=============+========+========+=======+\n",
      "| daffodil.jpg |    0.00 |      500 |     335 |        0.00 | 109.25 |  85.56 |  4.97 |\n",
      "+--------------+---------+----------+---------+-------------+--------+--------+-------+\n",
      "| trump.jpeg   |    0.00 |      183 |     275 |        0.00 |  97.01 |  98.99 | 90.92 |\n",
      "+--------------+---------+----------+---------+-------------+--------+--------+-------+\n",
      "| bw.png       |    0.00 |      512 |     512 |       21.48 |   0.00 |   0.00 |  0.00 |\n",
      "+--------------+---------+----------+---------+-------------+--------+--------+-------+\n",
      "| eclipse.png  |  133.59 |      256 |     256 |        0.00 | 109.05 | 109.52 | 39.85 |\n",
      "+--------------+---------+----------+---------+-------------+--------+--------+-------+\n"
     ]
    }
   ],
   "source": [
    "from PIL import Image\n",
    "import os\n",
    "from os import listdir\n",
    "import numpy as np\n",
    "from tabulate import tabulate\n",
    "immagini_dir = os.getcwd()+\"/files/images\"\n",
    "image_ext = [\"png\",\"jpg\",\"jpeg\"]\n",
    "table =[]\n",
    "#creo un ciclo for per poter iterare ogni immagine presente nella cartella\n",
    "for immagini in os.listdir(immagini_dir):\n",
    "    img_list=[]\n",
    "    name, extensions = os.path.splitext(immagini)\n",
    "    extensions = extensions[1:]\n",
    "    if extensions in image_ext :\n",
    "        img= Image.open(immagini_dir+\"/\"+immagini)\n",
    "        width, height= img.size\n",
    "        np_img= np.array(img)\n",
    "        imm_dim = np_img.ndim\n",
    "        #condizioni a seconda che l'immagine sia rgb, in scala di grigio o RGBA\n",
    "        if imm_dim==2:\n",
    "            img_mean=np.mean(np_img)\n",
    "            img_list+=[immagini,0,height,width,img_mean,0,0,0]\n",
    "            table.append(img_list)\n",
    "            print(\"{}, grescale{}\".format(immagini,img_mean))\n",
    "        elif imm_dim==3:\n",
    "            img_mean=np.mean(np_img, axis=(0,1))\n",
    "            if len(img_mean)==3:\n",
    "                print(\"{}, R={}, G={}, B={}\".format(immagini, img_mean[0], img_mean[1],img_mean[2]))\n",
    "                img_list+=[immagini,0,height,width,0,img_mean[0],img_mean[1],img_mean[2]]\n",
    "                table.append(img_list)\n",
    "            else:\n",
    "                print(\"{}, R={}, G={}, B={}, ALPHA={}\".format(immagini, img_mean[0], img_mean[1],img_mean[2],img_mean[3]))\n",
    "                img_list+=[immagini,img_mean[3],height,width,0,img_mean[0],img_mean[1],img_mean[2]]\n",
    "                table.append(img_list)\n",
    "\n",
    "print (tabulate(table, headers=[\"name\",\"alpha\",\"height\",\"width\",\"grayscale\",\"R\",\"G\",\"B\"],tablefmt=\"grid\",floatfmt=\".2f\"))\n"
   ]
  },
  {
   "cell_type": "code",
   "execution_count": null,
   "id": "d739b036",
   "metadata": {},
   "outputs": [],
   "source": []
  },
  {
   "cell_type": "code",
   "execution_count": null,
   "id": "5a0768dd",
   "metadata": {},
   "outputs": [],
   "source": []
  }
 ],
 "metadata": {
  "kernelspec": {
   "display_name": "Python 3 (ipykernel)",
   "language": "python",
   "name": "python3"
  },
  "language_info": {
   "codemirror_mode": {
    "name": "ipython",
    "version": 3
   },
   "file_extension": ".py",
   "mimetype": "text/x-python",
   "name": "python",
   "nbconvert_exporter": "python",
   "pygments_lexer": "ipython3",
   "version": "3.10.9"
  }
 },
 "nbformat": 4,
 "nbformat_minor": 5
}
